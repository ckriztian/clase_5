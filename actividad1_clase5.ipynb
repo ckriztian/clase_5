{
 "cells": [
  {
   "cell_type": "markdown",
   "metadata": {},
   "source": [
    "## Clase Nº 5: ITERADORES E ITERABLES"
   ]
  },
  {
   "cell_type": "markdown",
   "metadata": {},
   "source": [
    "1. Ingresar dos números por teclado a y b. Si a es mayor que b,\n",
    "imprimir ‘Hola Politécnico Malvinas’\n",
    "2. Ingresar dos números por teclado a y b. Si a no es igual a b, imprimir\n",
    "‘Hola Politécnico Malvinas’"
   ]
  },
  {
   "cell_type": "code",
   "execution_count": 7,
   "metadata": {},
   "outputs": [
    {
     "name": "stdout",
     "output_type": "stream",
     "text": [
      "3 no es igual a 5\n"
     ]
    }
   ],
   "source": [
    "num1 = input(\"ingrese un numero: \")\n",
    "num2 = input(\"ingrese otro numero: \")\n",
    "\n",
    "if num1 > num2:\n",
    "    print(\"Hola Politécnico Malvinas\")\n",
    "elif num1 != num2:\n",
    "    print(f\"{num1} no es igual a {num2}\")\n",
    "elif num1 == num2:\n",
    "    print(f\"{num1} es igual a {num2}\")\n",
    "else:\n",
    "    print(f\"{num1} es distinto a {num2}\")"
   ]
  },
  {
   "cell_type": "markdown",
   "metadata": {},
   "source": [
    "3. Ingresar dos números por teclado a y b. Si a es igual a b, imprimir\n",
    "‘son iguales’ sino imprimir ‘son distintos’"
   ]
  },
  {
   "cell_type": "code",
   "execution_count": 11,
   "metadata": {},
   "outputs": [
    {
     "name": "stdout",
     "output_type": "stream",
     "text": [
      "2 es distinto a 5\n"
     ]
    }
   ],
   "source": [
    "n1 = input(\"ingrese un numero: \")\n",
    "n2 = input(\"ingrese otro numero: \")\n",
    "\n",
    "if n1 == n2:\n",
    "    print(f\"{n1} es igual a {n2}\")\n",
    "else:\n",
    "    print(f\"{n1} es distinto a {n2}\")"
   ]
  },
  {
   "cell_type": "markdown",
   "metadata": {},
   "source": [
    "4. Ingresar dos números por teclado a y b. Si a es igual a b, imprimir 1\n",
    "si a es mayor que b, imprimir 2 sino imprimir 3"
   ]
  },
  {
   "cell_type": "code",
   "execution_count": 18,
   "metadata": {},
   "outputs": [
    {
     "name": "stdout",
     "output_type": "stream",
     "text": [
      "3\n"
     ]
    }
   ],
   "source": [
    "a = int(input(\"ingrese un numero: \"))\n",
    "b = int(input(\"ingrese otro numero: \"))\n",
    "\n",
    "if a == b:\n",
    "    print(1)\n",
    "elif a > b:\n",
    "    print(2)\n",
    "else:\n",
    "    print(3)"
   ]
  },
  {
   "cell_type": "markdown",
   "metadata": {},
   "source": [
    "5. Ingrese cuatro números por teclado a, b, c y d. Si a es igual b y c es\n",
    "igual a d, imprimir ‘Hola Politécnico Malvinas’\n"
   ]
  },
  {
   "cell_type": "code",
   "execution_count": 23,
   "metadata": {},
   "outputs": [],
   "source": [
    "a1 = int(input(\"ingrese un numero a: \"))\n",
    "b1 = int(input(\"ingrese otro numero b: \"))\n",
    "c1 = int(input(\"ingrese un numero c: \"))\n",
    "d1 = int(input(\"ingrese otro numero d: \"))\n",
    "\n",
    "if a1 == b1 and c1 == d1:\n",
    "    print(\"Hola politecnico Malvinas\")\n",
    "else:\n",
    "    print(\"Los números no cumplen la condición\")"
   ]
  },
  {
   "cell_type": "markdown",
   "metadata": {},
   "source": [
    "6. Ingrese cuatro números por teclado a, b, c y d. Si a es igual b ó c es\n",
    "igual a d, imprimir ‘Hola Politécnico Malvinas’"
   ]
  },
  {
   "cell_type": "code",
   "execution_count": 26,
   "metadata": {},
   "outputs": [
    {
     "name": "stdout",
     "output_type": "stream",
     "text": [
      "Los números no cumplen la condición\n"
     ]
    }
   ],
   "source": [
    "a11 = int(input(\"ingrese un numero a: \"))\n",
    "b11 = int(input(\"ingrese otro numero b: \"))\n",
    "c11 = int(input(\"ingrese un numero c: \"))\n",
    "d11 = int(input(\"ingrese otro numero d: \"))\n",
    "\n",
    "if a11 == b11 or c11 == d11:\n",
    "    print(\"Hola politecnico Malvinas\")\n",
    "else:\n",
    "    print(\"Los números no cumplen la condición\") "
   ]
  },
  {
   "cell_type": "markdown",
   "metadata": {},
   "source": [
    "7. Ingresar la edad de una persona por teclado, mostrar por pantalla si\n",
    "es mayor o menor de edad."
   ]
  },
  {
   "cell_type": "code",
   "execution_count": 28,
   "metadata": {},
   "outputs": [
    {
     "name": "stdout",
     "output_type": "stream",
     "text": [
      "Usted es mayor de edad\n"
     ]
    }
   ],
   "source": [
    "edad = int(input('Ingrese su edad: '))\n",
    "\n",
    "if edad >= 18:\n",
    "    print('Usted es mayor de edad!!!')\n",
    "else:\n",
    "    print('Ud. es menor de edad.')"
   ]
  },
  {
   "cell_type": "markdown",
   "metadata": {},
   "source": [
    "8. Ingresar un número por teclado y mostrar por pantalla si es para o\n",
    "impar.\n"
   ]
  },
  {
   "cell_type": "code",
   "execution_count": 30,
   "metadata": {},
   "outputs": [
    {
     "name": "stdout",
     "output_type": "stream",
     "text": [
      "El numero es impar.\n"
     ]
    }
   ],
   "source": [
    "par_impar = int(input('Ingrese un numero: '))\n",
    "if par_impar % 2 == 0:\n",
    "    print('El numero es par')\n",
    "else:\n",
    "    print('El numero es impar.')"
   ]
  },
  {
   "cell_type": "markdown",
   "metadata": {},
   "source": [
    "9. Ingresar por teclado tres números y mostrar por pantalla el mayor de los tres."
   ]
  },
  {
   "cell_type": "code",
   "execution_count": 38,
   "metadata": {},
   "outputs": [
    {
     "name": "stdout",
     "output_type": "stream",
     "text": [
      "el numero mayor es:  10\n"
     ]
    }
   ],
   "source": [
    "num_may1 = int(input('ingrese un numero: '))\n",
    "num_may2 = int(input('ingrese un 2do numero: '))\n",
    "num_may3 = int(input('ingrese un 3er numero: '))\n",
    "\n",
    "if num_may1 >= num_may2 and num_may3 >= num_may3:\n",
    "    print('el numero mayor es: ', num_may1)\n",
    "elif num_may2 >= num_may1 and num_may2 >= num_may3:\n",
    "    print('el numero mayor es: ', num_may2)\n",
    "else:\n",
    "    print('el numero mayor es: ',num_may3)"
   ]
  },
  {
   "cell_type": "markdown",
   "metadata": {},
   "source": [
    "10. Ingresar por teclado un nombre, si la variable nombre, no es nula mostrar por pantalla ‘Bienvenido ‘+ nombre, sino mostrar ‘Bienvenido anónimo’"
   ]
  },
  {
   "cell_type": "code",
   "execution_count": 4,
   "metadata": {},
   "outputs": [
    {
     "name": "stdout",
     "output_type": "stream",
     "text": [
      "Bienvenido Cristian\n"
     ]
    }
   ],
   "source": [
    "nombre = input(\"ingrese su nombre: \")\n",
    "\n",
    "if nombre:\n",
    "    print('Bienvenido',nombre)\n",
    "else:\n",
    "    print(\"Bienvenido anónimo.\")"
   ]
  }
 ],
 "metadata": {
  "kernelspec": {
   "display_name": "Python 3",
   "language": "python",
   "name": "python3"
  },
  "language_info": {
   "codemirror_mode": {
    "name": "ipython",
    "version": 3
   },
   "file_extension": ".py",
   "mimetype": "text/x-python",
   "name": "python",
   "nbconvert_exporter": "python",
   "pygments_lexer": "ipython3",
   "version": "3.12.3"
  }
 },
 "nbformat": 4,
 "nbformat_minor": 2
}
