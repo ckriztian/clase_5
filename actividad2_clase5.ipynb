{
 "cells": [
  {
   "cell_type": "markdown",
   "metadata": {},
   "source": [
    "1. Imprimir los números del 1 al 20 utilizando un bucle for"
   ]
  },
  {
   "cell_type": "code",
   "execution_count": 2,
   "metadata": {},
   "outputs": [
    {
     "name": "stdout",
     "output_type": "stream",
     "text": [
      "1\n",
      "2\n",
      "3\n",
      "4\n",
      "5\n",
      "6\n",
      "7\n",
      "8\n",
      "9\n",
      "10\n",
      "11\n",
      "12\n",
      "13\n",
      "14\n",
      "15\n",
      "16\n",
      "17\n",
      "18\n",
      "19\n",
      "20\n"
     ]
    }
   ],
   "source": [
    "for numeros in range(1,21):\n",
    "    print(numeros)"
   ]
  },
  {
   "cell_type": "markdown",
   "metadata": {},
   "source": [
    "2. Imprimir los números pares del 1 al 20 utilizando un bucle while"
   ]
  },
  {
   "cell_type": "code",
   "execution_count": 11,
   "metadata": {},
   "outputs": [
    {
     "name": "stdout",
     "output_type": "stream",
     "text": [
      "2\n",
      "4\n",
      "6\n",
      "8\n",
      "10\n",
      "12\n",
      "14\n",
      "16\n",
      "18\n",
      "20\n"
     ]
    }
   ],
   "source": [
    "i = 1\n",
    "while i <= 20:\n",
    "    if i % 2 == 0:\n",
    "        print(i)    \n",
    "    i += 1"
   ]
  },
  {
   "cell_type": "markdown",
   "metadata": {},
   "source": [
    "3. Imprimir los números impares del 1 al 30 utilizando un bucle for"
   ]
  },
  {
   "cell_type": "code",
   "execution_count": 14,
   "metadata": {},
   "outputs": [
    {
     "name": "stdout",
     "output_type": "stream",
     "text": [
      "1\n",
      "3\n",
      "5\n",
      "7\n",
      "9\n",
      "11\n",
      "13\n",
      "15\n",
      "17\n",
      "19\n",
      "21\n",
      "23\n",
      "25\n",
      "27\n",
      "29\n"
     ]
    }
   ],
   "source": [
    "for n in range(1,31,+2):\n",
    "    print(n)"
   ]
  },
  {
   "cell_type": "markdown",
   "metadata": {},
   "source": [
    "4. Ingresar un número por teclado y mostrar su tabla de multiplicar del 1\n",
    "al 10."
   ]
  },
  {
   "cell_type": "code",
   "execution_count": 15,
   "metadata": {},
   "outputs": [
    {
     "name": "stdout",
     "output_type": "stream",
     "text": [
      "3 x 1 = 3\n",
      "3 x 2 = 6\n",
      "3 x 3 = 9\n",
      "3 x 4 = 12\n",
      "3 x 5 = 15\n",
      "3 x 6 = 18\n",
      "3 x 7 = 21\n",
      "3 x 8 = 24\n",
      "3 x 9 = 27\n",
      "3 x 10 = 30\n"
     ]
    }
   ],
   "source": [
    "num = int(input(\"Ingrese un numero: \"))\n",
    "for multi in range(1,11):\n",
    "    producto=multi*num\n",
    "    print(f\"{num} x {multi} = {producto}\")\n"
   ]
  },
  {
   "cell_type": "markdown",
   "metadata": {},
   "source": [
    "5. Imprimir los números del 1 al 100, para los múltiplos de 3, imprimir\n",
    "“múltiplo de 3”, para los múltiplos de 5 imprimir “múltiplo de 5” y\n",
    "para los múltiplos de 3 y de 5 imprimir “múltiplo de 3 y 5”."
   ]
  },
  {
   "cell_type": "code",
   "execution_count": 24,
   "metadata": {},
   "outputs": [
    {
     "name": "stdout",
     "output_type": "stream",
     "text": [
      "3 es multiplo de 3\n",
      " 5 es multiplo de 5\n",
      "6 es multiplo de 3\n",
      "9 es multiplo de 3\n",
      " 10 es multiplo de 5\n",
      "12 es multiplo de 3\n",
      "15 es multiplo de 3 y 5\n",
      "18 es multiplo de 3\n",
      " 20 es multiplo de 5\n",
      "21 es multiplo de 3\n",
      "24 es multiplo de 3\n",
      " 25 es multiplo de 5\n",
      "27 es multiplo de 3\n",
      "30 es multiplo de 3 y 5\n",
      "33 es multiplo de 3\n",
      " 35 es multiplo de 5\n",
      "36 es multiplo de 3\n",
      "39 es multiplo de 3\n",
      " 40 es multiplo de 5\n",
      "42 es multiplo de 3\n",
      "45 es multiplo de 3 y 5\n",
      "48 es multiplo de 3\n",
      " 50 es multiplo de 5\n",
      "51 es multiplo de 3\n",
      "54 es multiplo de 3\n",
      " 55 es multiplo de 5\n",
      "57 es multiplo de 3\n",
      "60 es multiplo de 3 y 5\n",
      "63 es multiplo de 3\n",
      " 65 es multiplo de 5\n",
      "66 es multiplo de 3\n",
      "69 es multiplo de 3\n",
      " 70 es multiplo de 5\n",
      "72 es multiplo de 3\n",
      "75 es multiplo de 3 y 5\n",
      "78 es multiplo de 3\n",
      " 80 es multiplo de 5\n",
      "81 es multiplo de 3\n",
      "84 es multiplo de 3\n",
      " 85 es multiplo de 5\n",
      "87 es multiplo de 3\n",
      "90 es multiplo de 3 y 5\n",
      "93 es multiplo de 3\n",
      " 95 es multiplo de 5\n",
      "96 es multiplo de 3\n",
      "99 es multiplo de 3\n",
      " 100 es multiplo de 5\n"
     ]
    }
   ],
   "source": [
    "for numer in range(1,101):\n",
    "    if numer %3 == 0 and numer %5 == 0:\n",
    "        print(f\"{numer} es multiplo de 3 y 5\")\n",
    "    elif numer %5 == 0:\n",
    "        print(f\" {numer} es multiplo de 5\")\n",
    "    elif numer %3 == 0:\n",
    "        print(f'{numer} es multiplo de 3')"
   ]
  },
  {
   "cell_type": "markdown",
   "metadata": {},
   "source": [
    "6. Ingresar un número por teclado e imprimir si es número primo o no."
   ]
  },
  {
   "cell_type": "code",
   "execution_count": 6,
   "metadata": {},
   "outputs": [
    {
     "name": "stdout",
     "output_type": "stream",
     "text": [
      "9 NO es un numero primo.\n"
     ]
    }
   ],
   "source": [
    "numprimo = int(input(\"Ingrese un numero: \"))\n",
    "es_primo = True\n",
    "\n",
    "if numprimo < 2:\n",
    "    print(f\"El numero {numprimo} no es primo\")\n",
    "else:   \n",
    "    for p in range(2,numprimo):\n",
    "        if numprimo % p == 0:\n",
    "            es_primo = False\n",
    "            break\n",
    "\n",
    "    if es_primo:\n",
    "        print(f\"{numprimo} es un numero primo.\")\n",
    "    else:\n",
    "        print(f\"{numprimo} NO es un numero primo.\")"
   ]
  },
  {
   "cell_type": "markdown",
   "metadata": {},
   "source": [
    "7. A partir de una lista vacía, utilizar un ciclo while para cargar allí\n",
    "números negativos del -20 al -1"
   ]
  },
  {
   "cell_type": "code",
   "execution_count": 42,
   "metadata": {},
   "outputs": [
    {
     "name": "stdout",
     "output_type": "stream",
     "text": [
      "[-20, -19, -18, -17, -16, -15, -14, -13, -12, -11, -10, -9, -8, -7, -6, -5, -4, -3, -2, -1]\n"
     ]
    }
   ],
   "source": [
    "lista_vacia = []\n",
    "nummax = -20\n",
    "nummin = -1\n",
    "\n",
    "while nummax <= nummin:\n",
    "    lista_vacia.append(nummax)\n",
    "    nummax += 1\n",
    "print(lista_vacia)"
   ]
  },
  {
   "cell_type": "markdown",
   "metadata": {},
   "source": [
    "8. A partir de la variable cadena, mostrar en qué posiciones aparece la\n",
    "letra \"n\" cadena = 'Hola Politécnico. Esto es una práctica\n",
    "programación con Python'"
   ]
  },
  {
   "cell_type": "code",
   "execution_count": 84,
   "metadata": {},
   "outputs": [
    {
     "name": "stdout",
     "output_type": "stream",
     "text": [
      "La letra n se encuentra en la posición 12\n",
      "La letra n se encuentra en la posición 27\n",
      "La letra n se encuentra en la posición 50\n",
      "La letra n se encuentra en la posición 54\n",
      "La letra n se encuentra en la posición 61\n"
     ]
    }
   ],
   "source": [
    "cadena = 'Hola Politécnico. Esto es una práctica programación con Python'\n",
    "letra = 'n'\n",
    "it = 0\n",
    "\n",
    "while it < len(cadena):\n",
    "    if cadena[it] != letra:\n",
    "        it += 1\n",
    "    else:\n",
    "        print('La letra', letra, 'se encuentra en la posición', it)\n",
    "        it +=1\n"
   ]
  },
  {
   "cell_type": "markdown",
   "metadata": {},
   "source": [
    "9. Convertir en una lista la variable \"cadena\" del punto 10 y luego recorrerla con un iterador"
   ]
  },
  {
   "cell_type": "code",
   "execution_count": 87,
   "metadata": {},
   "outputs": [
    {
     "name": "stdout",
     "output_type": "stream",
     "text": [
      "['H', 'o', 'l', 'a', ' ', 'P', 'o', 'l', 'i', 't', 'é', 'c', 'n', 'i', 'c', 'o', '.', ' ', 'E', 's', 't', 'o', ' ', 'e', 's', ' ', 'u', 'n', 'a', ' ', 'p', 'r', 'á', 'c', 't', 'i', 'c', 'a', ' ', 'p', 'r', 'o', 'g', 'r', 'a', 'm', 'a', 'c', 'i', 'ó', 'n', ' ', 'c', 'o', 'n', ' ', 'P', 'y', 't', 'h', 'o', 'n']\n",
      "H\n",
      "o\n",
      "l\n",
      "a\n",
      " \n",
      "P\n",
      "o\n",
      "l\n",
      "i\n",
      "t\n",
      "é\n",
      "c\n",
      "n\n",
      "i\n",
      "c\n",
      "o\n",
      ".\n",
      " \n",
      "E\n",
      "s\n",
      "t\n",
      "o\n",
      " \n",
      "e\n",
      "s\n",
      " \n",
      "u\n",
      "n\n",
      "a\n",
      " \n",
      "p\n",
      "r\n",
      "á\n",
      "c\n",
      "t\n",
      "i\n",
      "c\n",
      "a\n",
      " \n",
      "p\n",
      "r\n",
      "o\n",
      "g\n",
      "r\n",
      "a\n",
      "m\n",
      "a\n",
      "c\n",
      "i\n",
      "ó\n",
      "n\n",
      " \n",
      "c\n",
      "o\n",
      "n\n",
      " \n",
      "P\n",
      "y\n",
      "t\n",
      "h\n",
      "o\n",
      "n\n"
     ]
    }
   ],
   "source": [
    "nueva_lista = list(cadena)\n",
    "print(nueva_lista)\n",
    "for caracter in nueva_lista:\n",
    "    print(caracter)"
   ]
  },
  {
   "cell_type": "markdown",
   "metadata": {},
   "source": [
    "10. A partir de la siguiente lista de números, crear una lista nueva sólo si el número es divisible por 5 lista1=[18,25,29,32,35,42,50,60,63,100]"
   ]
  },
  {
   "cell_type": "code",
   "execution_count": 93,
   "metadata": {},
   "outputs": [
    {
     "name": "stdout",
     "output_type": "stream",
     "text": [
      "[25, 35, 50, 60, 100]\n"
     ]
    }
   ],
   "source": [
    "lista1=[18,25,29,32,35,42,50,60,63,100]\n",
    "lista2=[]\n",
    "\n",
    "for ite in lista1:\n",
    "    if ite%5==0:\n",
    "        lista2.append(ite)  \n",
    "print(lista2)"
   ]
  },
  {
   "cell_type": "markdown",
   "metadata": {},
   "source": [
    "Otra posibilidad:\n",
    "\n",
    "lista1 = [18, 25, 29, 32, 35, 42, 50, 60, 63, 100]\n",
    "lista2 = [num for num in lista1 if num % 5 == 0]\n",
    "print(lista2)"
   ]
  },
  {
   "cell_type": "code",
   "execution_count": 94,
   "metadata": {},
   "outputs": [
    {
     "name": "stdout",
     "output_type": "stream",
     "text": [
      "[25, 35, 50, 60, 100]\n"
     ]
    }
   ],
   "source": [
    "lista1 = [18, 25, 29, 32, 35, 42, 50, 60, 63, 100]\n",
    "lista2 = [num for num in lista1 if num % 5 == 0]\n",
    "print(lista2)"
   ]
  },
  {
   "cell_type": "markdown",
   "metadata": {},
   "source": [
    "11. Imprimir los números primos del 1 al 100"
   ]
  },
  {
   "cell_type": "code",
   "execution_count": 54,
   "metadata": {},
   "outputs": [
    {
     "name": "stdout",
     "output_type": "stream",
     "text": [
      "Números primos del 1 al 100:\n",
      "2\n",
      "3\n",
      "5\n",
      "7\n",
      "11\n",
      "13\n",
      "17\n",
      "19\n",
      "23\n",
      "29\n",
      "31\n",
      "37\n",
      "41\n",
      "43\n",
      "47\n",
      "53\n",
      "59\n",
      "61\n",
      "67\n",
      "71\n",
      "73\n",
      "79\n",
      "83\n",
      "89\n",
      "97\n"
     ]
    }
   ],
   "source": [
    "print(\"Números primos del 1 al 100:\")\n",
    "for num in range(1, 101):\n",
    "    if num < 2:\n",
    "        continue\n",
    "    es_primo = True\n",
    "    for i in range(2, int(num ** 0.5) + 1):\n",
    "        if num % i == 0:\n",
    "            es_primo = False\n",
    "            break\n",
    "    if es_primo:\n",
    "        print(num)"
   ]
  },
  {
   "cell_type": "code",
   "execution_count": 67,
   "metadata": {},
   "outputs": [
    {
     "name": "stdout",
     "output_type": "stream",
     "text": [
      "Numeros primos del 1 al 100:\n",
      "2 es un numero primo.\n",
      "3 es un numero primo.\n",
      "5 es un numero primo.\n",
      "7 es un numero primo.\n",
      "11 es un numero primo.\n",
      "13 es un numero primo.\n",
      "17 es un numero primo.\n",
      "19 es un numero primo.\n",
      "23 es un numero primo.\n",
      "29 es un numero primo.\n",
      "31 es un numero primo.\n",
      "37 es un numero primo.\n",
      "41 es un numero primo.\n",
      "43 es un numero primo.\n",
      "47 es un numero primo.\n",
      "53 es un numero primo.\n",
      "59 es un numero primo.\n",
      "61 es un numero primo.\n",
      "67 es un numero primo.\n",
      "71 es un numero primo.\n",
      "73 es un numero primo.\n",
      "79 es un numero primo.\n",
      "83 es un numero primo.\n",
      "89 es un numero primo.\n",
      "97 es un numero primo.\n"
     ]
    }
   ],
   "source": [
    "print('Numeros primos del 1 al 100:')\n",
    "for N_primo in range (1,101):\n",
    "    if N_primo < 2:\n",
    "        continue\n",
    "    es_primo = True\n",
    "    for pr in range(2, int(N_primo ** 0.5) + 1):\n",
    "        if N_primo % pr == 0:\n",
    "            es_primo = False\n",
    "            break                \n",
    "    if es_primo:\n",
    "        print(f\"{N_primo} es un numero primo.\")"
   ]
  },
  {
   "cell_type": "markdown",
   "metadata": {},
   "source": [
    "12. Imprimir los números del 10 al 1 utilizando un bucle while."
   ]
  },
  {
   "cell_type": "code",
   "execution_count": 17,
   "metadata": {},
   "outputs": [
    {
     "name": "stdout",
     "output_type": "stream",
     "text": [
      "10\n",
      "9\n",
      "8\n",
      "7\n",
      "6\n",
      "5\n",
      "4\n",
      "3\n",
      "2\n",
      "1\n"
     ]
    }
   ],
   "source": [
    "iter = 10\n",
    "while iter >= 1:\n",
    "    print(iter)\n",
    "    iter -= 1"
   ]
  },
  {
   "cell_type": "markdown",
   "metadata": {},
   "source": [
    "13.Imprimir los números del 1 al 30, no mostrando los que son múltiplos de 3."
   ]
  },
  {
   "cell_type": "code",
   "execution_count": 24,
   "metadata": {},
   "outputs": [
    {
     "name": "stdout",
     "output_type": "stream",
     "text": [
      "1\n",
      "2\n",
      "4\n",
      "5\n",
      "7\n",
      "8\n",
      "10\n",
      "11\n",
      "13\n",
      "14\n",
      "16\n",
      "17\n",
      "19\n",
      "20\n",
      "22\n",
      "23\n",
      "25\n",
      "26\n",
      "28\n",
      "29\n"
     ]
    }
   ],
   "source": [
    "for itera in range(1,31):\n",
    "    if itera % 3 == 0:\n",
    "        continue\n",
    "    print(itera)\n",
    "    itera+=1"
   ]
  },
  {
   "cell_type": "markdown",
   "metadata": {},
   "source": [
    "14. Ingresar una cadena por teclado y contar la cantidad de letras ‘a’ que aparecen en la misma.Imprimir la cadena y la cantidad de ‘a’ que aparecen."
   ]
  },
  {
   "cell_type": "code",
   "execution_count": 38,
   "metadata": {},
   "outputs": [
    {
     "name": "stdout",
     "output_type": "stream",
     "text": [
      "Esto es una prueba de cadena y caracteres\n",
      "Cantidad de 'a': 6\n"
     ]
    }
   ],
   "source": [
    "texto = str(input(\"Inserte una cadena de caracteres: \"))\n",
    "letra_a = 'a'\n",
    "\n",
    "cantidad_a = texto.count(letra_a)\n",
    "print(texto)\n",
    "print(\"Cantidad de 'a':\",cantidad_a)"
   ]
  },
  {
   "cell_type": "markdown",
   "metadata": {},
   "source": [
    "15. Dada una lista de marca de vehículos marcas =[‘Ford’,’Renault’,’Peugeot’,’Audi’,’Toyota’], recorrer la lista con un bucle for y en caso de que la marca sea ‘Audi’ salir del bucle."
   ]
  },
  {
   "cell_type": "code",
   "execution_count": 42,
   "metadata": {},
   "outputs": [
    {
     "name": "stdout",
     "output_type": "stream",
     "text": [
      "Ford\n",
      "Renault\n",
      "Peugeot\n"
     ]
    }
   ],
   "source": [
    "marcas = ['Ford','Renault','Peugeot','Audi','Toyota']\n",
    "for marca in marcas:\n",
    "    if marca == 'Audi':\n",
    "        break\n",
    "    else:\n",
    "        print(marca)\n",
    "         "
   ]
  }
 ],
 "metadata": {
  "kernelspec": {
   "display_name": "Python 3",
   "language": "python",
   "name": "python3"
  },
  "language_info": {
   "codemirror_mode": {
    "name": "ipython",
    "version": 3
   },
   "file_extension": ".py",
   "mimetype": "text/x-python",
   "name": "python",
   "nbconvert_exporter": "python",
   "pygments_lexer": "ipython3",
   "version": "3.12.3"
  }
 },
 "nbformat": 4,
 "nbformat_minor": 2
}
