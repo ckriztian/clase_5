{
 "cells": [
  {
   "cell_type": "markdown",
   "metadata": {},
   "source": [
    "## Tarea clase 5"
   ]
  },
  {
   "cell_type": "markdown",
   "metadata": {},
   "source": [
    "**Calculadora Simple:** Crea un programa que solicite al usuario dos números y una operación (suma, resta, multiplicación o división). Luego, utilizando estructuras condicionales (if, elif, else), realiza la operación seleccionada e imprime el resultado."
   ]
  },
  {
   "cell_type": "code",
   "execution_count": 53,
   "metadata": {},
   "outputs": [
    {
     "name": "stdout",
     "output_type": "stream",
     "text": [
      "Calculadora Simple\n",
      "3-4=-1\n"
     ]
    }
   ],
   "source": [
    "n1 = int(input('ingrese un numero: '))\n",
    "n2 = int(input('ingrese otro numero: '))\n",
    "operacion = int(input(\"Seleccione: 1:Suma, 2:Resta, 3:Multiplicacion, 4:Division\"))\n",
    "\n",
    "print(\"Calculadora Simple\")\n",
    "if operacion == 1:\n",
    "    suma = n1 + n2\n",
    "    print(f'{n1}+{n2}={suma}')\n",
    "elif operacion == 2:\n",
    "    resta = n1 - n2\n",
    "    print(f'{n1}-{n2}={resta}')\n",
    "elif operacion == 3:\n",
    "    multi = n1 * n2\n",
    "    print(f'{n1}*{n2}={multi}')\n",
    "else:\n",
    "    division = n1 / n2\n",
    "    print(f'{n1}/{n2}={division}')\n"
   ]
  },
  {
   "cell_type": "markdown",
   "metadata": {},
   "source": [
    "**Contador de Números Pares e Impares:** Escribe un programa que recorra una lista de números del 1 al 20. Utilizando un bucle for, determina cuántos de estos números son pares y cuántos son impares. Al final, imprime la cantidad de números pares e impares."
   ]
  },
  {
   "cell_type": "code",
   "execution_count": 54,
   "metadata": {},
   "outputs": [
    {
     "name": "stdout",
     "output_type": "stream",
     "text": [
      "Contador de Numeros Pares e Impares\n",
      "1 Es impar.\n",
      "2 Es par.\n",
      "3 Es impar.\n",
      "4 Es par.\n",
      "5 Es impar.\n",
      "6 Es par.\n",
      "7 Es impar.\n",
      "8 Es par.\n",
      "9 Es impar.\n",
      "10 Es par.\n",
      "11 Es impar.\n",
      "12 Es par.\n",
      "13 Es impar.\n",
      "14 Es par.\n",
      "15 Es impar.\n",
      "16 Es par.\n",
      "17 Es impar.\n",
      "18 Es par.\n",
      "19 Es impar.\n",
      "20 Es par.\n"
     ]
    }
   ],
   "source": [
    "print(\"Contador de Numeros Pares e Impares\")\n",
    "for i in range(1,21):\n",
    "    if i % 2 == 0:\n",
    "        print(f'{i} Es par.')\n",
    "        i+=1\n",
    "    else:\n",
    "        print(f'{i} Es impar.')\n",
    "        "
   ]
  },
  {
   "cell_type": "markdown",
   "metadata": {},
   "source": [
    "**Validación de Contraseña:** Pide al usuario que ingrese una contraseña. Utiliza un bucle while para seguir solicitando la contraseña hasta que coincida con una contraseña predefinida (por ejemplo, \"python123\"). Muestra un mensaje de éxito cuando la contraseña es correcta."
   ]
  },
  {
   "cell_type": "code",
   "execution_count": 56,
   "metadata": {},
   "outputs": [
    {
     "name": "stdout",
     "output_type": "stream",
     "text": [
      "Validador de Contraseña\n",
      "Contrasena correcta! :D\n"
     ]
    }
   ],
   "source": [
    "password = 'python123'\n",
    "\n",
    "contrasena = input(\"Ingrese su contrasena: \")\n",
    "print(\"Validador de Contraseña\")\n",
    "if contrasena == password:\n",
    "    print(\"Contrasena correcta! :D\")\n",
    "else:\n",
    "    print(\"Contrasena incorrecta :()\")"
   ]
  },
  {
   "cell_type": "markdown",
   "metadata": {},
   "source": [
    "**Identificador de Números Primos:** Crea un programa que solicite al usuario un número entero. Utilizando un bucle for, verifica si el número es primo (es decir, solo divisible por 1 y por sí mismo). Imprime un mensaje indicando si el número es primo o no."
   ]
  },
  {
   "cell_type": "code",
   "execution_count": 57,
   "metadata": {},
   "outputs": [
    {
     "name": "stdout",
     "output_type": "stream",
     "text": [
      "Identificador de Numeros Primos\n",
      "3 es un numero primo.\n"
     ]
    }
   ],
   "source": [
    "ing_numero = int(input(\"Ingrese un numero entero: \"))\n",
    "es_primo = True\n",
    "\n",
    "print(\"Identificador de Numeros Primos\")\n",
    "if ing_numero < 2:\n",
    "    print(\"No es un numero primo\")\n",
    "else:\n",
    "    for p in range(2,ing_numero):\n",
    "        if ing_numero % p == 0:\n",
    "            es_primo = False\n",
    "            break\n",
    "\n",
    "    if es_primo:\n",
    "        print(f\"{ing_numero} es un numero primo.\")\n",
    "    else:\n",
    "        print(f\"{ing_numero} NO es un numero primo.\")\n",
    "        "
   ]
  },
  {
   "cell_type": "markdown",
   "metadata": {},
   "source": [
    "\n",
    "**Juego de Adivinanza:** Genera un número aleatorio entre 1 y 50. Pide al usuario que adivine el número. Utiliza un bucle while para permitir múltiples intentos. Da pistas al usuario si el número ingresado es demasiado alto o bajo. Finaliza el juego cuando el usuario adivine correctamente."
   ]
  },
  {
   "cell_type": "code",
   "execution_count": 78,
   "metadata": {},
   "outputs": [
    {
     "name": "stdout",
     "output_type": "stream",
     "text": [
      "Cual es tu nombre?...\n",
      "Hola Cristian, juguemos a la adivinanza...\n",
      "Elige un numero del 1 al 50\n",
      "Tu numero es mas alto\n",
      "Elige un numero del 1 al 50\n",
      "Tu numero es mas alto\n",
      "Elige un numero del 1 al 50\n",
      "Tu numero es mas bajo\n",
      "Elige un numero del 1 al 50\n",
      "Tu numero es mas bajo\n",
      "Elige un numero del 1 al 50\n",
      "Tu numero es mas bajo\n",
      "Elige un numero del 1 al 50\n",
      "Excelente! el numero era 9\n",
      "Cristian lo lograste con 6 intentos\n",
      "Adios!.\n"
     ]
    }
   ],
   "source": [
    "import random\n",
    "\n",
    "intentos = 0\n",
    "\n",
    "print (\"Cual es tu nombre?...\")\n",
    "nombre = input(\"Cual es tu nombre?...\")\n",
    "\n",
    "x = random.randint (1, 50)\n",
    "\n",
    "print (\"Hola \" + nombre + \", juguemos a la adivinanza...\" )\n",
    "\n",
    "while intentos < 50:\n",
    "    intentos = intentos + 1\n",
    "    print (\"Elige un numero del 1 al 50\")\n",
    "    numero = int(input(\"Elige un numero del 1 al 50\"))\n",
    "\n",
    "    if numero < x:\n",
    "        print (\"Tu numero es mas bajo\")\n",
    "\n",
    "    if numero > x:\n",
    "        print (\"Tu numero es mas alto\")\n",
    "\n",
    "    if numero == x:\n",
    "        print (\"Excelente! el numero era\",x)\n",
    "        print (nombre + \" lo lograste con %d intentos\" % (intentos))\n",
    "        print (\"Adios!.\")\n",
    "        break"
   ]
  },
  {
   "cell_type": "markdown",
   "metadata": {},
   "source": [
    "**Tabla de Multiplicar:** Pide al usuario que ingrese un número entero. Utiliza un bucle for para imprimir la tabla de multiplicar de ese número del 1 al 10. Por ejemplo, si el usuario ingresa 7, el programa debe imprimir:"
   ]
  },
  {
   "cell_type": "code",
   "execution_count": 52,
   "metadata": {},
   "outputs": [
    {
     "name": "stdout",
     "output_type": "stream",
     "text": [
      "Tabla de Multiplicar\n",
      "1x7=7\n",
      "2x7=14\n",
      "3x7=21\n",
      "4x7=28\n",
      "5x7=35\n",
      "6x7=42\n",
      "7x7=49\n",
      "8x7=56\n",
      "9x7=63\n",
      "10x7=70\n"
     ]
    }
   ],
   "source": [
    "numero = int(input('Ingrese un numero entero: '))\n",
    "\n",
    "print(\"Tabla de Multiplicar\")\n",
    "for multi in range(1,11):\n",
    "    producto = multi * numero\n",
    "    print(f\"{multi}x{numero}={producto}\")\n"
   ]
  }
 ],
 "metadata": {
  "kernelspec": {
   "display_name": "Python 3",
   "language": "python",
   "name": "python3"
  },
  "language_info": {
   "codemirror_mode": {
    "name": "ipython",
    "version": 3
   },
   "file_extension": ".py",
   "mimetype": "text/x-python",
   "name": "python",
   "nbconvert_exporter": "python",
   "pygments_lexer": "ipython3",
   "version": "3.12.3"
  }
 },
 "nbformat": 4,
 "nbformat_minor": 2
}
