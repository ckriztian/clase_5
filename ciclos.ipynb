{
 "cells": [
  {
   "cell_type": "markdown",
   "metadata": {},
   "source": [
    "1. Imprimir los números del 1 al 20 utilizando un bucle for"
   ]
  },
  {
   "cell_type": "code",
   "execution_count": 2,
   "metadata": {},
   "outputs": [
    {
     "name": "stdout",
     "output_type": "stream",
     "text": [
      "1\n",
      "2\n",
      "3\n",
      "4\n",
      "5\n",
      "6\n",
      "7\n",
      "8\n",
      "9\n",
      "10\n",
      "11\n",
      "12\n",
      "13\n",
      "14\n",
      "15\n",
      "16\n",
      "17\n",
      "18\n",
      "19\n",
      "20\n"
     ]
    }
   ],
   "source": [
    "for numeros in range(1,21):\n",
    "    print(numeros)"
   ]
  },
  {
   "cell_type": "markdown",
   "metadata": {},
   "source": [
    "2. Imprimir los números pares del 1 al 20 utilizando un bucle while"
   ]
  },
  {
   "cell_type": "code",
   "execution_count": 11,
   "metadata": {},
   "outputs": [
    {
     "name": "stdout",
     "output_type": "stream",
     "text": [
      "2\n",
      "4\n",
      "6\n",
      "8\n",
      "10\n",
      "12\n",
      "14\n",
      "16\n",
      "18\n",
      "20\n"
     ]
    }
   ],
   "source": [
    "i = 1\n",
    "while i <= 20:\n",
    "    if i % 2 == 0:\n",
    "        print(i)    \n",
    "    i += 1"
   ]
  },
  {
   "cell_type": "markdown",
   "metadata": {},
   "source": [
    "3. Imprimir los números impares del 1 al 30 utilizando un bucle for"
   ]
  },
  {
   "cell_type": "code",
   "execution_count": 14,
   "metadata": {},
   "outputs": [
    {
     "name": "stdout",
     "output_type": "stream",
     "text": [
      "1\n",
      "3\n",
      "5\n",
      "7\n",
      "9\n",
      "11\n",
      "13\n",
      "15\n",
      "17\n",
      "19\n",
      "21\n",
      "23\n",
      "25\n",
      "27\n",
      "29\n"
     ]
    }
   ],
   "source": [
    "for n in range(1,31,+2):\n",
    "    print(n)"
   ]
  },
  {
   "cell_type": "markdown",
   "metadata": {},
   "source": [
    "4. Ingresar un número por teclado y mostrar su tabla de multiplicar del 1\n",
    "al 10."
   ]
  },
  {
   "cell_type": "code",
   "execution_count": 15,
   "metadata": {},
   "outputs": [
    {
     "name": "stdout",
     "output_type": "stream",
     "text": [
      "3 x 1 = 3\n",
      "3 x 2 = 6\n",
      "3 x 3 = 9\n",
      "3 x 4 = 12\n",
      "3 x 5 = 15\n",
      "3 x 6 = 18\n",
      "3 x 7 = 21\n",
      "3 x 8 = 24\n",
      "3 x 9 = 27\n",
      "3 x 10 = 30\n"
     ]
    }
   ],
   "source": [
    "num = int(input(\"Ingrese un numero: \"))\n",
    "for multi in range(1,11):\n",
    "    producto=multi*num\n",
    "    print(f\"{num} x {multi} = {producto}\")\n"
   ]
  },
  {
   "cell_type": "markdown",
   "metadata": {},
   "source": [
    "5. Imprimir los números del 1 al 100, para los múltiplos de 3, imprimir\n",
    "“múltiplo de 3”, para los múltiplos de 5 imprimir “múltiplo de 5” y\n",
    "para los múltiplos de 3 y de 5 imprimir “múltiplo de 3 y 5”."
   ]
  },
  {
   "cell_type": "code",
   "execution_count": 24,
   "metadata": {},
   "outputs": [
    {
     "name": "stdout",
     "output_type": "stream",
     "text": [
      "3 es multiplo de 3\n",
      " 5 es multiplo de 5\n",
      "6 es multiplo de 3\n",
      "9 es multiplo de 3\n",
      " 10 es multiplo de 5\n",
      "12 es multiplo de 3\n",
      "15 es multiplo de 3 y 5\n",
      "18 es multiplo de 3\n",
      " 20 es multiplo de 5\n",
      "21 es multiplo de 3\n",
      "24 es multiplo de 3\n",
      " 25 es multiplo de 5\n",
      "27 es multiplo de 3\n",
      "30 es multiplo de 3 y 5\n",
      "33 es multiplo de 3\n",
      " 35 es multiplo de 5\n",
      "36 es multiplo de 3\n",
      "39 es multiplo de 3\n",
      " 40 es multiplo de 5\n",
      "42 es multiplo de 3\n",
      "45 es multiplo de 3 y 5\n",
      "48 es multiplo de 3\n",
      " 50 es multiplo de 5\n",
      "51 es multiplo de 3\n",
      "54 es multiplo de 3\n",
      " 55 es multiplo de 5\n",
      "57 es multiplo de 3\n",
      "60 es multiplo de 3 y 5\n",
      "63 es multiplo de 3\n",
      " 65 es multiplo de 5\n",
      "66 es multiplo de 3\n",
      "69 es multiplo de 3\n",
      " 70 es multiplo de 5\n",
      "72 es multiplo de 3\n",
      "75 es multiplo de 3 y 5\n",
      "78 es multiplo de 3\n",
      " 80 es multiplo de 5\n",
      "81 es multiplo de 3\n",
      "84 es multiplo de 3\n",
      " 85 es multiplo de 5\n",
      "87 es multiplo de 3\n",
      "90 es multiplo de 3 y 5\n",
      "93 es multiplo de 3\n",
      " 95 es multiplo de 5\n",
      "96 es multiplo de 3\n",
      "99 es multiplo de 3\n",
      " 100 es multiplo de 5\n"
     ]
    }
   ],
   "source": [
    "for numer in range(1,101):\n",
    "    if numer %3 == 0 and numer %5 == 0:\n",
    "        print(f\"{numer} es multiplo de 3 y 5\")\n",
    "    elif numer %5 == 0:\n",
    "        print(f\" {numer} es multiplo de 5\")\n",
    "    elif numer %3 == 0:\n",
    "        print(f'{numer} es multiplo de 3')"
   ]
  },
  {
   "cell_type": "markdown",
   "metadata": {},
   "source": [
    "6. Ingresar un número por teclado e imprimir si es número primo o no. ** MAL. REHACERLO!!!"
   ]
  },
  {
   "cell_type": "code",
   "execution_count": 29,
   "metadata": {},
   "outputs": [
    {
     "name": "stdout",
     "output_type": "stream",
     "text": [
      "2 NO es un numero primo.\n"
     ]
    }
   ],
   "source": [
    "numprimo = int(input(\"Ingrese un numero: \"))\n",
    "\n",
    "if numprimo % 2 != 0 and numprimo/numprimo != 0:\n",
    "    print(f\"{numprimo} es un numero primo.\")\n",
    "else:\n",
    "    print(f\"{numprimo} NO es un numero primo.\")"
   ]
  }
 ],
 "metadata": {
  "kernelspec": {
   "display_name": "Python 3",
   "language": "python",
   "name": "python3"
  },
  "language_info": {
   "codemirror_mode": {
    "name": "ipython",
    "version": 3
   },
   "file_extension": ".py",
   "mimetype": "text/x-python",
   "name": "python",
   "nbconvert_exporter": "python",
   "pygments_lexer": "ipython3",
   "version": "3.12.3"
  }
 },
 "nbformat": 4,
 "nbformat_minor": 2
}
